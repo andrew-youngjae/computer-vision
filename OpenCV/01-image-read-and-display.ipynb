{
 "cells": [
  {
   "cell_type": "code",
   "execution_count": 2,
   "id": "036a79c6-67d1-4624-9959-6d4abde15508",
   "metadata": {},
   "outputs": [
    {
     "name": "stderr",
     "output_type": "stream",
     "text": [
      "2024-09-28 22:09:00.039 python3.10[58963:827379] +[IMKClient subclass]: chose IMKClient_Legacy\n",
      "2024-09-28 22:09:00.039 python3.10[58963:827379] +[IMKInputSession subclass]: chose IMKInputSession_Legacy\n"
     ]
    }
   ],
   "source": [
    "import cv2 as cv\n",
    "import sys\n",
    "\n",
    "# 이미지 읽어오기\n",
    "image = cv.imread('data/soccer/soccer.jpg')\n",
    "\n",
    "if image is None:\n",
    "    sys.exit('There is no file')\n",
    "\n",
    "# 윈도우에 이미지 표시\n",
    "cv.imshow('Image Display', image)\n",
    "\n",
    "# keyboard의 key가 눌릴 때까지 기다리다가, key가 눌리면 해당 key의 유니코드 값을 반환\n",
    "cv.waitKey()\n",
    "cv.destroyAllWindows()\n"
   ]
  },
  {
   "cell_type": "code",
   "execution_count": 3,
   "id": "b8df85b0-fc21-4376-9744-09189bbdf89d",
   "metadata": {},
   "outputs": [
    {
     "data": {
      "text/plain": [
       "numpy.ndarray"
      ]
     },
     "execution_count": 3,
     "metadata": {},
     "output_type": "execute_result"
    }
   ],
   "source": [
    "# OpenCV에서 영상(image)는 numpy.ndarray 클래스 형의 객체\n",
    "type(image)"
   ]
  },
  {
   "cell_type": "code",
   "execution_count": 4,
   "id": "f485e553-64d0-49ad-b950-fcdd228b2ec6",
   "metadata": {},
   "outputs": [
    {
     "data": {
      "text/plain": [
       "(585, 1040, 3)"
      ]
     },
     "execution_count": 4,
     "metadata": {},
     "output_type": "execute_result"
    }
   ],
   "source": [
    "# 앞의 두 숫자는 pixel 차원\n",
    "# pixel 좌표를 나타낼 때 Computer Vision에서는 왼쪽 위를 원점(0,0)으로 간주함\n",
    "# 또한 Computer Vision에서는 좌표를 쓸 때 (y,x) 또는 (r,c)와 같이 y축을 먼저 씀\n",
    "# 마지막 3은 채널 개수\n",
    "# OpenCV에서 채널은 Blue, Green, Red (BGR) 순서가 기본임\n",
    "image.shape"
   ]
  },
  {
   "cell_type": "code",
   "execution_count": null,
   "id": "948943f8-31c2-4ad0-ab2a-50f8904abbb0",
   "metadata": {},
   "outputs": [],
   "source": []
  }
 ],
 "metadata": {
  "kernelspec": {
   "display_name": "Python 3 (ipykernel)",
   "language": "python",
   "name": "python3"
  },
  "language_info": {
   "codemirror_mode": {
    "name": "ipython",
    "version": 3
   },
   "file_extension": ".py",
   "mimetype": "text/x-python",
   "name": "python",
   "nbconvert_exporter": "python",
   "pygments_lexer": "ipython3",
   "version": "3.10.15"
  }
 },
 "nbformat": 4,
 "nbformat_minor": 5
}
