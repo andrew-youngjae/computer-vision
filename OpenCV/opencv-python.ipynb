{
 "cells": [
  {
   "cell_type": "code",
   "execution_count": 2,
   "id": "036a79c6-67d1-4624-9959-6d4abde15508",
   "metadata": {},
   "outputs": [
    {
     "name": "stderr",
     "output_type": "stream",
     "text": [
      "2024-09-27 14:59:31.010 python3.10[55652:713147] +[IMKClient subclass]: chose IMKClient_Legacy\n",
      "2024-09-27 14:59:31.010 python3.10[55652:713147] +[IMKInputSession subclass]: chose IMKInputSession_Legacy\n"
     ]
    }
   ],
   "source": [
    "import cv2 as cv\n",
    "import sys\n",
    "\n",
    "# 이미지 읽어오기\n",
    "image = cv.imread('data/soccer.jpg')\n",
    "\n",
    "if image is None:\n",
    "    sys.exit('There is no file')\n",
    "\n",
    "# 윈도우에 이미지 표시\n",
    "cv.imshow('Image Display', image)\n",
    "\n",
    "cv.waitKey()\n",
    "cv.destroyAllWindows()\n"
   ]
  },
  {
   "cell_type": "code",
   "execution_count": null,
   "id": "b8df85b0-fc21-4376-9744-09189bbdf89d",
   "metadata": {},
   "outputs": [],
   "source": []
  }
 ],
 "metadata": {
  "kernelspec": {
   "display_name": "Python 3 (ipykernel)",
   "language": "python",
   "name": "python3"
  },
  "language_info": {
   "codemirror_mode": {
    "name": "ipython",
    "version": 3
   },
   "file_extension": ".py",
   "mimetype": "text/x-python",
   "name": "python",
   "nbconvert_exporter": "python",
   "pygments_lexer": "ipython3",
   "version": "3.10.15"
  }
 },
 "nbformat": 4,
 "nbformat_minor": 5
}
