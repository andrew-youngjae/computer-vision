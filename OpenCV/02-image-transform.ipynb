{
 "cells": [
  {
   "cell_type": "code",
   "execution_count": null,
   "id": "4db76090-ab75-4af8-ab79-7786b17a344c",
   "metadata": {},
   "outputs": [],
   "source": [
    "# 컬러 Image를 명암 Image로 변환하고 반으로 축소하기\n",
    "import cv2 as cv\n",
    "import sys\n",
    "\n",
    "image = cv.imread('data/soccer/soccer.jpg')\n",
    "\n",
    "if image is None:\n",
    "    sys.exit('There is no file')\n",
    "\n",
    "# BGR 컬러 이미지를 명암 이미지로 변환\n",
    "# 특정 픽셀의 채널 값 3개에 특정 공식을 적용하여 gray image로 변경하는 것\n",
    "# cvtColor 공식은 OpenCV 공식 사이트에 제시되어 있음\n",
    "gray_image = cv.cvtColor(image, cv.COLOR_BGR2GRAY)\n",
    "# 명암 이미지로 변환한 결과를 또 반으로 축소\n",
    "# dsize : 변환할 크기를 지정 -> (0,0)일 경우 비율을 지정하는 fx와 fy에 따름\n",
    "# fx=0.5이고 fy=0.5이므로 가로와 세로 방향 모두 반으로 축소\n",
    "gray_small_image = cv.resize(gray_image, dsize=(0,0), fx=0.5, fy=0.5)\n",
    "\n",
    "# 이미지를 파일에 저장\n",
    "cv.imwrite('data/soccer/soccer_gray_image.jpg', gray_image)\n",
    "cv.imwrite('data/soccer/soccer_gray_small_image.jpg', gray_small_image)\n",
    "\n",
    "cv.imshow('Color Image', image)\n",
    "cv.imshow('Gray Image', gray_image)\n",
    "cv.imshow('Gray Small Image', gray_small_image)\n",
    "\n",
    "cv.waitKey()\n",
    "cv.destroyAllWindows()"
   ]
  },
  {
   "cell_type": "code",
   "execution_count": null,
   "id": "6435203c-0a35-4cb4-839b-a2173fdf6d77",
   "metadata": {},
   "outputs": [],
   "source": []
  }
 ],
 "metadata": {
  "kernelspec": {
   "display_name": "Python 3 (ipykernel)",
   "language": "python",
   "name": "python3"
  },
  "language_info": {
   "codemirror_mode": {
    "name": "ipython",
    "version": 3
   },
   "file_extension": ".py",
   "mimetype": "text/x-python",
   "name": "python",
   "nbconvert_exporter": "python",
   "pygments_lexer": "ipython3",
   "version": "3.10.15"
  }
 },
 "nbformat": 4,
 "nbformat_minor": 5
}
